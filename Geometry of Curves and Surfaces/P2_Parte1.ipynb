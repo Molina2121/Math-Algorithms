{
 "cells": [
  {
   "cell_type": "markdown",
   "metadata": {},
   "source": [
    "Para poder escribir la ecuación en LaTeX podemos usar el comando `latex(f)`."
   ]
  },
  {
   "cell_type": "markdown",
   "metadata": {},
   "source": [
    "## Ejercicio 2\n",
    "\n",
    "Considera el subconjunto $C$ de $\\mathbb{R}^2$ dado por $f(x,y)=0$ donde \n",
    "$$\n",
    "f(x,y)=27 \\, x^{3} + 108 \\, x^{2} y + 144 \\, x y^{2} + 64 \\, y^{3} - 1620 \\, x^{2} + 4680 \\, x y - 255 \\, y^{2} + 6975 \\, x - 1950 \\, y - 15625.\n",
    "$$\n",
    "\n",
    "1.  Encuentra el único punto $P\\in C$ donde se anulen las dos derivadas parciales de $f$.\n",
    "1.  Usando las rectas que pasan por $P$ intenta dar una parametrización de $C$.\n",
    "1.  Si no lo consigues (algún denominador inoportuno), haz un cambio de variable para evitarlo y conseguir una parametrización regular\n",
    "$\\bfx:\\RR\\to\\RR^2$ cuya imagen esté en $C$.\n",
    "1.  ¿Echas en falta algún punto de $C$ en la imagen de la parametrización?\n",
    "1.  Calcula la curvatura y encuentra los vértices. Escoge el que tiene parámetro *intermedio* al que llamaremos $Q$.\n",
    "1.  Reparametriza para que $\\bfx(0)=Q$ y $\\norma{\\bfx'(0)}=1$.\n",
    "1.  Recalcula la curvatura $\\kappa$, compara $\\kappa(t)$ y $\\kappa(-t)$ e interpreta la comparación geométricamente.\n",
    "1.  Calcula la evoluta y dibújala con la curva.\n"
   ]
  },
  {
   "cell_type": "markdown",
   "metadata": {},
   "source": [
    "Vamos a empezar definiendo las primeras funciones y gráficas."
   ]
  },
  {
   "cell_type": "code",
   "execution_count": 1,
   "metadata": {},
   "outputs": [
    {
     "data": {
      "text/html": [
       "<html>\\(\\displaystyle 27 \\, x^{3} + 108 \\, x^{2} y + 144 \\, x y^{2} + 64 \\, y^{3} - 1620 \\, x^{2} + 4680 \\, x y - 255 \\, y^{2} + 6975 \\, x - 1950 \\, y - 15625\\)</html>"
      ],
      "text/latex": [
       "$\\displaystyle 27 \\, x^{3} + 108 \\, x^{2} y + 144 \\, x y^{2} + 64 \\, y^{3} - 1620 \\, x^{2} + 4680 \\, x y - 255 \\, y^{2} + 6975 \\, x - 1950 \\, y - 15625$"
      ],
      "text/plain": [
       "27*x^3 + 108*x^2*y + 144*x*y^2 + 64*y^3 - 1620*x^2 + 4680*x*y - 255*y^2 + 6975*x - 1950*y - 15625"
      ]
     },
     "metadata": {},
     "output_type": "display_data"
    }
   ],
   "source": [
    "reset()\n",
    "var('x y')\n",
    "f(x,y)=27*x^3 + 108*x^2*y + 144*x*y^2 + 64*y^3 - 1620*x^2 + 4680*x*y - 255*y^2 + 6975*x - 1950*y - 15625\n",
    "f(x,y).show()"
   ]
  },
  {
   "cell_type": "code",
   "execution_count": 7,
   "metadata": {},
   "outputs": [
    {
     "data": {
      "image/png": "[encoded data removed]",
      "text/plain": [
       "Graphics object consisting of 1 graphics primitive"
      ]
     },
     "metadata": {},
     "output_type": "display_data"
    }
   ],
   "source": [
    "I = implicit_plot(f(x,y)==0,(x,-8,10),(y,-8,10), color='blue')\n",
    "I.show(figsize=4)"
   ]
  },
  {
   "cell_type": "markdown",
   "metadata": {},
   "source": [
    "$\\textbf{1 -}$ Encuentra el único punto $P\\in C$ donde se anulen las dos derivadas parciales de $f$."
   ]
  },
  {
   "cell_type": "code",
   "execution_count": 8,
   "metadata": {},
   "outputs": [
    {
     "data": {
      "text/plain": [
       "[[x == (-17/5), y == (-31/5)], [x == (1/5), y == (-7/5)]]"
      ]
     },
     "execution_count": 8,
     "metadata": {},
     "output_type": "execute_result"
    }
   ],
   "source": [
    "df_dx = diff(f, x)  \n",
    "df_dy = diff(f, y)  \n",
    "\n",
    "puntosCriticos = solve([df_dx == 0, df_dy == 0], x, y)\n",
    "puntosCriticos"
   ]
  },
  {
   "cell_type": "markdown",
   "metadata": {},
   "source": [
    "Encontramos dos puntos críticos $P1,P2$, que son\n",
    "$$P_1=\\left(-\\frac{17}{5},-\\frac{31}{5}\\right)~~~,~~~~ P_2=\\left(\\frac{1}{5},-\\frac{7}{5}\\right)$$\n"
   ]
  },
  {
   "cell_type": "markdown",
   "metadata": {},
   "source": [
    "Solamente uno de los puntos críticos que hemos obtenido debería pertenecer a $C$. Veamos cuál:"
   ]
  },
  {
   "cell_type": "code",
   "execution_count": 9,
   "metadata": {},
   "outputs": [
    {
     "data": {
      "text/plain": [
       "0"
      ]
     },
     "execution_count": 9,
     "metadata": {},
     "output_type": "execute_result"
    }
   ],
   "source": [
    "f(x=-17/5, y=-31/5)"
   ]
  },
  {
   "cell_type": "markdown",
   "metadata": {},
   "source": [
    "El punto $(-17/5, -31/5)$ pertenece."
   ]
  },
  {
   "cell_type": "code",
   "execution_count": 10,
   "metadata": {},
   "outputs": [
    {
     "data": {
      "text/plain": [
       "-13500"
      ]
     },
     "execution_count": 10,
     "metadata": {},
     "output_type": "execute_result"
    }
   ],
   "source": [
    "f(x=1/5, y= -7/5)"
   ]
  },
  {
   "cell_type": "markdown",
   "metadata": {},
   "source": [
    "El punto $(1/5, -7/5)$ no pertenece.\n",
    "\n",
    "Por lo tanto, el punto $P $ que estamos buscando es $(-17/5, -31/5)$"
   ]
  },
  {
   "cell_type": "code",
   "execution_count": 11,
   "metadata": {},
   "outputs": [
    {
     "data": {
      "image/png": "[encoded data removed]",
      "text/plain": [
       "Graphics object consisting of 2 graphics primitives"
      ]
     },
     "metadata": {},
     "output_type": "display_data"
    }
   ],
   "source": [
    "P = point((-17/5,-31/5), color='red', size=40)\n",
    "(I + P).show(figsize=5)"
   ]
  },
  {
   "cell_type": "markdown",
   "metadata": {},
   "source": [
    "$\\textbf{2 -}$ Usando las rectas que pasan por $P$ intenta dar una parametrización de $C$."
   ]
  },
  {
   "cell_type": "markdown",
   "metadata": {},
   "source": [
    "Vamos a intentar parametrizar $C$ usando las rectas que pasan por $P$. Las rectas que pasan por $P=(a,b)$ son de la forma\n",
    "$$(x,y)=(a,b)+t (u,v),$$\n",
    "donde $(u,v)$ es el vector director."
   ]
  },
  {
   "cell_type": "markdown",
   "metadata": {},
   "source": [
    "En coordenadas cartesianas tenemos que\n",
    "$$\\left\\{\n",
    "x(t)=a+tu\\atop\n",
    "y(t)=b+tv\n",
    "\\right.$$"
   ]
  },
  {
   "cell_type": "code",
   "execution_count": 12,
   "metadata": {},
   "outputs": [
    {
     "data": {
      "text/html": [
       "<html>\\(\\displaystyle \\left[t = \\frac{45 \\, {\\left(57 \\, u^{2} - 48 \\, u v + 43 \\, v^{2}\\right)}}{27 \\, u^{3} + 108 \\, u^{2} v + 144 \\, u v^{2} + 64 \\, v^{3}}, t = 0\\right]\\)</html>"
      ],
      "text/latex": [
       "$\\displaystyle \\left[t = \\frac{45 \\, {\\left(57 \\, u^{2} - 48 \\, u v + 43 \\, v^{2}\\right)}}{27 \\, u^{3} + 108 \\, u^{2} v + 144 \\, u v^{2} + 64 \\, v^{3}}, t = 0\\right]$"
      ],
      "text/plain": [
       "[t == 45*(57*u^2 - 48*u*v + 43*v^2)/(27*u^3 + 108*u^2*v + 144*u*v^2 + 64*v^3), t == 0]"
      ]
     },
     "metadata": {},
     "output_type": "display_data"
    }
   ],
   "source": [
    "var('u v t')\n",
    "\n",
    "a, b = -17/5, -31/5\n",
    "\n",
    "x_t = a + t*u\n",
    "y_t = b + t*v\n",
    "\n",
    "parametrizacion = f.subs({x: x_t, y: y_t})\n",
    "sols = solve(parametrizacion, t)\n",
    "\n",
    "show(sols)"
   ]
  },
  {
   "cell_type": "markdown",
   "metadata": {},
   "source": [
    "La solución $t=0$ nos da el propio punto, una solución trivial y que no nos vale. Así que tomamos el otro posible valor de $t$."
   ]
  },
  {
   "cell_type": "code",
   "execution_count": 16,
   "metadata": {},
   "outputs": [
    {
     "data": {
      "text/html": [
       "<html>\\(\\displaystyle \\left( u, v \\right) \\ {\\mapsto} \\ \\frac{45 \\, {\\left(57 \\, u^{2} - 48 \\, u v + 43 \\, v^{2}\\right)}}{27 \\, u^{3} + 108 \\, u^{2} v + 144 \\, u v^{2} + 64 \\, v^{3}}\\)</html>"
      ],
      "text/latex": [
       "$\\displaystyle \\left( u, v \\right) \\ {\\mapsto} \\ \\frac{45 \\, {\\left(57 \\, u^{2} - 48 \\, u v + 43 \\, v^{2}\\right)}}{27 \\, u^{3} + 108 \\, u^{2} v + 144 \\, u v^{2} + 64 \\, v^{3}}$"
      ],
      "text/plain": [
       "(u, v) |--> 45*(57*u^2 - 48*u*v + 43*v^2)/(27*u^3 + 108*u^2*v + 144*u*v^2 + 64*v^3)"
      ]
     },
     "metadata": {},
     "output_type": "display_data"
    }
   ],
   "source": [
    "t(u,v) = 45*(57*u^2 - 48*u*v + 43*v^2)/(27*u^3 + 108*u^2*v + 144*u*v^2 + 64*v^3)\n",
    "t.show()"
   ]
  },
  {
   "cell_type": "code",
   "execution_count": 17,
   "metadata": {},
   "outputs": [
    {
     "data": {
      "text/html": [
       "<html>\\(\\displaystyle \\frac{45 \\, {\\left(57 \\, u^{2} - 48 \\, u v + 43 \\, v^{2}\\right)} u}{27 \\, u^{3} + 108 \\, u^{2} v + 144 \\, u v^{2} + 64 \\, v^{3}} - \\frac{17}{5}\\)</html>"
      ],
      "text/latex": [
       "$\\displaystyle \\frac{45 \\, {\\left(57 \\, u^{2} - 48 \\, u v + 43 \\, v^{2}\\right)} u}{27 \\, u^{3} + 108 \\, u^{2} v + 144 \\, u v^{2} + 64 \\, v^{3}} - \\frac{17}{5}$"
      ],
      "text/plain": [
       "45*(57*u^2 - 48*u*v + 43*v^2)*u/(27*u^3 + 108*u^2*v + 144*u*v^2 + 64*v^3) - 17/5"
      ]
     },
     "metadata": {},
     "output_type": "display_data"
    },
    {
     "data": {
      "text/html": [
       "<html>\\(\\displaystyle \\frac{45 \\, {\\left(57 \\, u^{2} - 48 \\, u v + 43 \\, v^{2}\\right)} v}{27 \\, u^{3} + 108 \\, u^{2} v + 144 \\, u v^{2} + 64 \\, v^{3}} - \\frac{31}{5}\\)</html>"
      ],
      "text/latex": [
       "$\\displaystyle \\frac{45 \\, {\\left(57 \\, u^{2} - 48 \\, u v + 43 \\, v^{2}\\right)} v}{27 \\, u^{3} + 108 \\, u^{2} v + 144 \\, u v^{2} + 64 \\, v^{3}} - \\frac{31}{5}$"
      ],
      "text/plain": [
       "45*(57*u^2 - 48*u*v + 43*v^2)*v/(27*u^3 + 108*u^2*v + 144*u*v^2 + 64*v^3) - 31/5"
      ]
     },
     "metadata": {},
     "output_type": "display_data"
    }
   ],
   "source": [
    "x_u = a + t(u,v) * u\n",
    "y_u = b + t(u,v) * v\n",
    "\n",
    "x_u.show()\n",
    "y_u.show()"
   ]
  },
  {
   "cell_type": "code",
   "execution_count": 18,
   "metadata": {},
   "outputs": [
    {
     "data": {
      "text/plain": [
       "(45*(57*u^2 - 48*u*v + 43*v^2)*u/(27*u^3 + 108*u^2*v + 144*u*v^2 + 64*v^3) - 17/5,\n",
       " 45*(57*u^2 - 48*u*v + 43*v^2)*v/(27*u^3 + 108*u^2*v + 144*u*v^2 + 64*v^3) - 31/5)"
      ]
     },
     "execution_count": 18,
     "metadata": {},
     "output_type": "execute_result"
    }
   ],
   "source": [
    "(x_u, y_u)"
   ]
  },
  {
   "cell_type": "markdown",
   "metadata": {},
   "source": [
    "Vamos a ver si esta parametrización presenta problemas en el denominador."
   ]
  },
  {
   "cell_type": "code",
   "execution_count": 19,
   "metadata": {},
   "outputs": [
    {
     "data": {
      "text/plain": [
       "([u == -4/3*v], [v == -3/4*u])"
      ]
     },
     "execution_count": 19,
     "metadata": {},
     "output_type": "execute_result"
    }
   ],
   "source": [
    "denominador = 27*u**3 + 108*u**2*v + 144*u*v**2 + 64*v**3\n",
    "sol_u = solve(denominador, u)\n",
    "sol_v = solve(denominador, v)\n",
    "\n",
    "sol_u, sol_v"
   ]
  },
  {
   "cell_type": "markdown",
   "metadata": {},
   "source": [
    "En efecto, nos encontramos ante un denominador problemático, tendremos que encontrar una mejor parametrización mediante un cambio de variable."
   ]
  },
  {
   "cell_type": "markdown",
   "metadata": {},
   "source": [
    "$\\textbf{3 -}$ Si no lo consigues (algún denominador inoportuno), haz un cambio de variable para evitarlo y conseguir una parametrización regular\n",
    "$\\bfx:\\RR\\to\\RR^2$ cuya imagen esté en $C$."
   ]
  },
  {
   "cell_type": "markdown",
   "metadata": {},
   "source": [
    "Vamos a emplear el siguiente cambio de variable: $$\\left\\{ u = \\frac{1}{3} - \\frac{4}{3}\\cdot t \\atop v = t\n",
    "\\right.$$"
   ]
  },
  {
   "cell_type": "code",
   "execution_count": 20,
   "metadata": {},
   "outputs": [
    {
     "data": {
      "text/html": [
       "<html>\\(\\displaystyle -12500 \\, t^{3} + 7125 \\, t^{2} - 1380 \\, t + \\frac{458}{5}\\)</html>"
      ],
      "text/latex": [
       "$\\displaystyle -12500 \\, t^{3} + 7125 \\, t^{2} - 1380 \\, t + \\frac{458}{5}$"
      ],
      "text/plain": [
       "-12500*t^3 + 7125*t^2 - 1380*t + 458/5"
      ]
     },
     "metadata": {},
     "output_type": "display_data"
    },
    {
     "data": {
      "text/html": [
       "<html>\\(\\displaystyle 9375 \\, t^{3} - 3000 \\, t^{2} + 285 \\, t - \\frac{31}{5}\\)</html>"
      ],
      "text/latex": [
       "$\\displaystyle 9375 \\, t^{3} - 3000 \\, t^{2} + 285 \\, t - \\frac{31}{5}$"
      ],
      "text/plain": [
       "9375*t^3 - 3000*t^2 + 285*t - 31/5"
      ]
     },
     "metadata": {},
     "output_type": "display_data"
    },
    {
     "data": {
      "text/plain": [
       "(None, None)"
      ]
     },
     "execution_count": 20,
     "metadata": {},
     "output_type": "execute_result"
    }
   ],
   "source": [
    "x_u = 45*(57*u^2 - 48*u*v + 43*v^2)*u/(27*u^3 + 108*u^2*v + 144*u*v^2 + 64*v^3) - 17/5\n",
    "y_u = 45*(57*u^2 - 48*u*v + 43*v^2)*v/(27*u^3 + 108*u^2*v + 144*u*v^2 + 64*v^3) - 31/5\n",
    "\n",
    "t = var('t')\n",
    "\n",
    "x_wz = x_u.subs({u: (1/3) - (4/3)*t, v: t}).simplify_full()\n",
    "y_wz = y_u.subs({u: (1/3) - (4/3)*t, v: t}).simplify_full()\n",
    "\n",
    "show(x_wz), show(y_wz)"
   ]
  },
  {
   "cell_type": "markdown",
   "metadata": {},
   "source": [
    "Hemos evitado el problema del denominador. Veamos la gráfica."
   ]
  },
  {
   "cell_type": "code",
   "execution_count": 22,
   "metadata": {},
   "outputs": [
    {
     "data": {
      "image/png": "[encoded data removed]",
      "text/plain": [
       "Graphics object consisting of 2 graphics primitives"
      ]
     },
     "metadata": {},
     "output_type": "display_data"
    }
   ],
   "source": [
    "f_plot = implicit_plot(f == 0, (x, -10, 30), (y, -10, 30), color='blue', linewidth=2)\n",
    "\n",
    "x_t(t) = -12500*t^3 + 7125*t^2 - 1380*t + 458/5\n",
    "y_t(t) = 9375*t^3 - 3000*t^2 + 285*t - 31/5\n",
    "\n",
    "#Vamos a graficar en estos puntos (Cuantos más pongamos será más precisa)\n",
    "theta_values = srange(0, 2, 0.01, include_endpoint=False)\n",
    "points = [(x_t(t_val).n(), y_t(t_val).n()) for t_val in theta_values]\n",
    "\n",
    "param_plot = line(points, color='red', thickness=3, linestyle='--') #La ponemos discontinua porque estará una encima de la otra\n",
    "\n",
    "show(f_plot + param_plot, figsize=8, xmin=-10, xmax=30, ymin=-10, ymax=30)"
   ]
  },
  {
   "cell_type": "markdown",
   "metadata": {},
   "source": [
    "La parametrización coincide con la curva."
   ]
  },
  {
   "cell_type": "markdown",
   "metadata": {},
   "source": [
    "Así que tenemos nuestra parametrización:\n",
    "$$\\begin{align*}\n",
    "\\textbf{x}: \\mathbb{R} &\\to \\mathbb{R}^2 \\\\\n",
    "\\theta &\\mapsto x(t)=(x_1(t),x_2(t))\n",
    "\\end{align*},\n",
    "$$\n",
    "siendo\n",
    "$$x_1(t) = \\frac{1}{3} - \\frac{4}{3}\\cdot t$$\n",
    "$$x_2(t) = t$$"
   ]
  },
  {
   "cell_type": "code",
   "execution_count": 23,
   "metadata": {},
   "outputs": [
    {
     "data": {
      "text/plain": [
       "(-12500*t^3 + 7125*t^2 - 1380*t + 458/5, 9375*t^3 - 3000*t^2 + 285*t - 31/5)"
      ]
     },
     "execution_count": 23,
     "metadata": {},
     "output_type": "execute_result"
    }
   ],
   "source": [
    "V=vector([x_wz,y_wz])\n",
    "V"
   ]
  },
  {
   "cell_type": "code",
   "execution_count": 24,
   "metadata": {},
   "outputs": [
    {
     "data": {
      "text/plain": [
       "[]"
      ]
     },
     "execution_count": 24,
     "metadata": {},
     "output_type": "execute_result"
    }
   ],
   "source": [
    "V1=V.derivative(t)\n",
    "solve([V1[0]==0,V1[1]==0],t)"
   ]
  },
  {
   "cell_type": "markdown",
   "metadata": {},
   "source": [
    "Obtenemos que no se anula la derivada en ningún punto $\\implies$ tenemos una parametrización válida."
   ]
  },
  {
   "cell_type": "markdown",
   "metadata": {},
   "source": [
    "$\\textbf{4 -}$¿Echas en falta algún punto de $C$ en la imagen de la parametrización?"
   ]
  },
  {
   "cell_type": "markdown",
   "metadata": {},
   "source": [
    "Veamos de nuevo todas las gráficas combinadas:"
   ]
  },
  {
   "cell_type": "code",
   "execution_count": 25,
   "metadata": {},
   "outputs": [
    {
     "data": {
      "image/png": "[encoded data removed]",
      "text/plain": [
       "Graphics object consisting of 3 graphics primitives"
      ]
     },
     "metadata": {},
     "output_type": "display_data"
    }
   ],
   "source": [
    "f_plot = implicit_plot(f == 0, (x, -10, 30), (y, -10, 30), color='blue', linewidth=2)\n",
    "\n",
    "x_t(t) = -12500*t^3 + 7125*t^2 - 1380*t + 458/5\n",
    "y_t(t) = 9375*t^3 - 3000*t^2 + 285*t - 31/5\n",
    "\n",
    "P = point((-17/5, -31/5), size=30, color='green', zorder=5)\n",
    "\n",
    "t_values = srange(0, 2, 0.01, include_endpoint=False)\n",
    "points = [(x_t(t_val).n(), y_t(t_val).n()) for t_val in t_values]\n",
    "\n",
    "param_plot = line(points, color='red', thickness=3, linestyle='--')\n",
    "\n",
    "show(f_plot + param_plot + P, figsize=8, xmin=-10, xmax=20, ymin=-10, ymax=20)"
   ]
  },
  {
   "cell_type": "markdown",
   "metadata": {},
   "source": [
    "$\\implies $El punto $ P = \\left(-\\frac{17}{5},-\\frac{31}{5}\\right)$, usado para obtener la parametrización, pertenece al conjunto $C$ del enunciado, pero no pertence a la imagen de la curva obtenida."
   ]
  },
  {
   "cell_type": "markdown",
   "metadata": {},
   "source": [
    "$\\textbf{5 -}$ Calcula la curvatura y encuentra los vértices. Escoge el que tiene parámetro intermedio al que llamaremos $Q$."
   ]
  },
  {
   "cell_type": "markdown",
   "metadata": {},
   "source": [
    "Emplearemos una de las funciones ya predefinidas."
   ]
  },
  {
   "cell_type": "code",
   "execution_count": 26,
   "metadata": {},
   "outputs": [],
   "source": [
    "def curvaplana1(W,variable=t):\n",
    "    s=variable\n",
    "    W1=W.derivative(t)\n",
    "    W2=W1.derivative(t)\n",
    "    reg=(W1*W1).simplify_full().factor()\n",
    "    ct=W1.normalized().simplify_full()\n",
    "    a,b=ct\n",
    "    cn=vector([-b,a])\n",
    "    kappa=Matrix([W1,W2]).det()/W1.norm()^3\n",
    "    kappa=kappa.simplify_full().factor()\n",
    "    return [reg,ct,cn,kappa]"
   ]
  },
  {
   "cell_type": "code",
   "execution_count": 27,
   "metadata": {},
   "outputs": [],
   "source": [
    "resultados=curvaplana1(V)\n",
    "curvatura = resultados[3]"
   ]
  },
  {
   "cell_type": "code",
   "execution_count": 28,
   "metadata": {},
   "outputs": [
    {
     "data": {
      "text/html": [
       "<html>\\(\\displaystyle \\frac{10 \\, {\\left(25 \\, t - 3\\right)} {\\left(5 \\, t - 1\\right)}}{3 \\, {\\left(390625 \\, t^{4} - 250000 \\, t^{3} + 63750 \\, t^{2} - 7600 \\, t + 353\\right)}^{\\frac{3}{2}}}\\)</html>"
      ],
      "text/latex": [
       "$\\displaystyle \\frac{10 \\, {\\left(25 \\, t - 3\\right)} {\\left(5 \\, t - 1\\right)}}{3 \\, {\\left(390625 \\, t^{4} - 250000 \\, t^{3} + 63750 \\, t^{2} - 7600 \\, t + 353\\right)}^{\\frac{3}{2}}}$"
      ],
      "text/plain": [
       "10/3*(25*t - 3)*(5*t - 1)/(390625*t^4 - 250000*t^3 + 63750*t^2 - 7600*t + 353)^(3/2)"
      ]
     },
     "metadata": {},
     "output_type": "display_data"
    }
   ],
   "source": [
    "show(curvatura)"
   ]
  },
  {
   "cell_type": "code",
   "execution_count": 29,
   "metadata": {},
   "outputs": [],
   "source": [
    "curv_dt = curvatura.derivative(t).simplify_full()\n",
    "\n",
    "ceros = solve(curv_dt == 0,t)"
   ]
  },
  {
   "cell_type": "code",
   "execution_count": 35,
   "metadata": {},
   "outputs": [
    {
     "data": {
      "text/html": [
       "<html>\\(\\displaystyle \\left[t = -\\frac{1}{25} \\, \\sqrt{-\\sqrt{5}} + \\frac{4}{25}, t = \\frac{1}{25} \\, \\sqrt{-\\sqrt{5}} + \\frac{4}{25}, t = -\\frac{1}{25} \\cdot 5^{\\frac{1}{4}} + \\frac{4}{25}, t = \\frac{1}{25} \\cdot 5^{\\frac{1}{4}} + \\frac{4}{25}, t = \\left(\\frac{4}{25}\\right)\\right]\\)</html>"
      ],
      "text/latex": [
       "$\\displaystyle \\left[t = -\\frac{1}{25} \\, \\sqrt{-\\sqrt{5}} + \\frac{4}{25}, t = \\frac{1}{25} \\, \\sqrt{-\\sqrt{5}} + \\frac{4}{25}, t = -\\frac{1}{25} \\cdot 5^{\\frac{1}{4}} + \\frac{4}{25}, t = \\frac{1}{25} \\cdot 5^{\\frac{1}{4}} + \\frac{4}{25}, t = \\left(\\frac{4}{25}\\right)\\right]$"
      ],
      "text/plain": [
       "[t == -1/25*sqrt(-sqrt(5)) + 4/25, t == 1/25*sqrt(-sqrt(5)) + 4/25, t == -1/25*5^(1/4) + 4/25, t == 1/25*5^(1/4) + 4/25, t == (4/25)]"
      ]
     },
     "metadata": {},
     "output_type": "display_data"
    }
   ],
   "source": [
    "show(ceros)"
   ]
  },
  {
   "cell_type": "markdown",
   "metadata": {},
   "source": [
    "El de parámetro intermedio será para $t = 4/25$, y obtenemos:"
   ]
  },
  {
   "cell_type": "code",
   "execution_count": 30,
   "metadata": {},
   "outputs": [
    {
     "data": {
      "text/plain": [
       "(2, 1)"
      ]
     },
     "execution_count": 30,
     "metadata": {},
     "output_type": "execute_result"
    }
   ],
   "source": [
    "P_intermedio=V.subs(t=4/25)\n",
    "P_intermedio"
   ]
  },
  {
   "cell_type": "markdown",
   "metadata": {},
   "source": [
    "Graficamos la curva y el punto intermedio y vemos que no es ningún resultado absurdo."
   ]
  },
  {
   "cell_type": "code",
   "execution_count": 31,
   "metadata": {},
   "outputs": [
    {
     "data": {
      "image/png": "[encoded data removed]",
      "text/plain": [
       "Graphics object consisting of 2 graphics primitives"
      ]
     },
     "metadata": {},
     "output_type": "display_data"
    }
   ],
   "source": [
    "x_t(t) = -12500*t^3 + 7125*t^2 - 1380*t + 458/5\n",
    "y_t(t) = 9375*t^3 - 3000*t^2 + 285*t - 31/5\n",
    "\n",
    "P1 = point((2, 1), size=200, color='black', zorder=5)\n",
    "t_values = srange(0, 2, 0.01, include_endpoint=False)\n",
    "points = [(x_t(t_val).n(), y_t(t_val).n()) for t_val in t_values]\n",
    "\n",
    "param_plot = line(points, color='red', thickness=3, linestyle='--')\n",
    "\n",
    "show(param_plot + P1, figsize=8, xmin=-10, xmax=20, ymin=-10, ymax=15)"
   ]
  },
  {
   "cell_type": "markdown",
   "metadata": {},
   "source": [
    "$ \\textbf{6 -}$ Reparametriza para que $\\bfx(0)=Q$ y $\\norma{\\bfx'(0)}=1$."
   ]
  },
  {
   "cell_type": "markdown",
   "metadata": {},
   "source": [
    "Para que la parametrización en $0$ de el punto $Q$ debemos hacer un simple desplazamiento $t = h + 4/25$."
   ]
  },
  {
   "cell_type": "code",
   "execution_count": 32,
   "metadata": {},
   "outputs": [
    {
     "data": {
      "text/html": [
       "<html>\\(\\displaystyle \\left(-12500 \\, h^{3} + 1125 \\, h^{2} - 60 \\, h + 2,\\,9375 \\, h^{3} + 1500 \\, h^{2} + 45 \\, h + 1\\right)\\)</html>"
      ],
      "text/latex": [
       "$\\displaystyle \\left(-12500 \\, h^{3} + 1125 \\, h^{2} - 60 \\, h + 2,\\,9375 \\, h^{3} + 1500 \\, h^{2} + 45 \\, h + 1\\right)$"
      ],
      "text/plain": [
       "(-12500*h^3 + 1125*h^2 - 60*h + 2, 9375*h^3 + 1500*h^2 + 45*h + 1)"
      ]
     },
     "metadata": {},
     "output_type": "display_data"
    }
   ],
   "source": [
    "var ('h')\n",
    "W=vector([V[0].subs(t=h+4/25).simplify_full(), V[1].subs(t=h+4/25).simplify_full()])\n",
    "show(W)"
   ]
  },
  {
   "cell_type": "markdown",
   "metadata": {},
   "source": [
    "Por otro lado, nos pide que la norma de la derivada resulte 1. Debemos ajustar la velocidad de la curva multiplicando por una constante k. Vamos a ver cuánto vale actualmente."
   ]
  },
  {
   "cell_type": "code",
   "execution_count": 33,
   "metadata": {},
   "outputs": [
    {
     "data": {
      "text/plain": [
       "75"
      ]
     },
     "execution_count": 33,
     "metadata": {},
     "output_type": "execute_result"
    }
   ],
   "source": [
    "W_d=W.derivative(h)\n",
    "W_h0=W_d.subs(h=0).norm()\n",
    "W_h0"
   ]
  },
  {
   "cell_type": "markdown",
   "metadata": {},
   "source": [
    "Por tanto, tenemos que ajustar $h = h/75$."
   ]
  },
  {
   "cell_type": "code",
   "execution_count": 34,
   "metadata": {},
   "outputs": [
    {
     "data": {
      "text/plain": [
       "(-4/135*h^3 + 1/5*h^2 - 4/5*h + 2, 1/45*h^3 + 4/15*h^2 + 3/5*h + 1)"
      ]
     },
     "execution_count": 34,
     "metadata": {},
     "output_type": "execute_result"
    }
   ],
   "source": [
    "G = W.subs(h=h/75)\n",
    "G"
   ]
  },
  {
   "cell_type": "markdown",
   "metadata": {},
   "source": [
    "Reescribimos en un vector en función de t los resultados obtenidos y comprobamos que cumple el paso anterior."
   ]
  },
  {
   "cell_type": "code",
   "execution_count": 35,
   "metadata": {},
   "outputs": [
    {
     "data": {
      "text/plain": [
       "(-4/135*t^3 + 1/5*t^2 - 4/5*t + 2, 1/45*t^3 + 4/15*t^2 + 3/5*t + 1)"
      ]
     },
     "execution_count": 35,
     "metadata": {},
     "output_type": "execute_result"
    }
   ],
   "source": [
    "V1=vector([-4/135*t^3 + 1/5*t^2 - 4/5*t + 2, 1/45*t^3 + 4/15*t^2 + 3/5*t + 1])\n",
    "V1"
   ]
  },
  {
   "cell_type": "code",
   "execution_count": 36,
   "metadata": {},
   "outputs": [
    {
     "data": {
      "text/plain": [
       "(2, 1)"
      ]
     },
     "execution_count": 36,
     "metadata": {},
     "output_type": "execute_result"
    }
   ],
   "source": [
    "V1.subs(t=0)"
   ]
  },
  {
   "cell_type": "code",
   "execution_count": 37,
   "metadata": {},
   "outputs": [
    {
     "data": {
      "text/plain": [
       "1"
      ]
     },
     "execution_count": 37,
     "metadata": {},
     "output_type": "execute_result"
    }
   ],
   "source": [
    "V1_d = V1.derivative(t)\n",
    "V_t0 = V1_d.subs(t=0).norm()\n",
    "V_t0"
   ]
  },
  {
   "cell_type": "markdown",
   "metadata": {},
   "source": [
    "Cumple todo, por último veamos la gráfica con esta parametrización."
   ]
  },
  {
   "cell_type": "code",
   "execution_count": 41,
   "metadata": {},
   "outputs": [
    {
     "data": {
      "image/png": "[encoded data removed]",
      "text/plain": [
       "Graphics object consisting of 2 graphics primitives"
      ]
     },
     "metadata": {},
     "output_type": "display_data"
    }
   ],
   "source": [
    "x_t1(t) = -4/135*t^3 + 1/5*t^2 - 4/5*t + 2\n",
    "y_t2(t) = 1/45*t^3 + 4/15*t^2 + 3/5*t + 1\n",
    "\n",
    "P1 = point((2, 1), size=200, color='black', zorder=5)\n",
    "t_values = srange(-5, 15, 0.01, include_endpoint=False)\n",
    "points = [(x_t1(t_val).n(), y_t2(t_val).n()) for t_val in t_values]\n",
    "\n",
    "param_plot = line(points, color='red', thickness=3, linestyle='--')\n",
    "\n",
    "show(param_plot + P1, figsize=8, xmin=-5, xmax=15, ymin=-5, ymax=15)"
   ]
  },
  {
   "cell_type": "markdown",
   "metadata": {},
   "source": [
    "$ \\textbf{7 -}$ Recalcula la curvatura $\\kappa$, compara $\\kappa(t)$ y $\\kappa(-t)$ e interpreta la comparación geométricamente."
   ]
  },
  {
   "cell_type": "markdown",
   "metadata": {},
   "source": [
    "Empleamos de nuevo la función predefinida para la curvatura de nuestra parametrización ajustada a lo que se nos pedía."
   ]
  },
  {
   "cell_type": "code",
   "execution_count": 46,
   "metadata": {},
   "outputs": [
    {
     "data": {
      "text/html": [
       "<html>\\(\\displaystyle \\frac{54 \\, {\\left(t + 3\\right)} {\\left(t - 3\\right)}}{{\\left(t^{4} + 54 \\, t^{2} + 81\\right)}^{\\frac{3}{2}}}\\)</html>"
      ],
      "text/latex": [
       "$\\displaystyle \\frac{54 \\, {\\left(t + 3\\right)} {\\left(t - 3\\right)}}{{\\left(t^{4} + 54 \\, t^{2} + 81\\right)}^{\\frac{3}{2}}}$"
      ],
      "text/plain": [
       "54*(t + 3)*(t - 3)/(t^4 + 54*t^2 + 81)^(3/2)"
      ]
     },
     "metadata": {},
     "output_type": "display_data"
    }
   ],
   "source": [
    "resultados2=curvaplana1(V1)\n",
    "curvatura1 = resultados2[3]\n",
    "show(curvatura1)"
   ]
  },
  {
   "cell_type": "markdown",
   "metadata": {},
   "source": [
    "Ahora establecemos el caso $-t$ y vemos su curvatura."
   ]
  },
  {
   "cell_type": "code",
   "execution_count": 47,
   "metadata": {},
   "outputs": [
    {
     "data": {
      "text/html": [
       "<html>\\(\\displaystyle \\frac{54 \\, {\\left(t^{2} - 9\\right)}}{{\\left(t^{4} + 54 \\, t^{2} + 81\\right)}^{\\frac{3}{2}}}\\)</html>"
      ],
      "text/latex": [
       "$\\displaystyle \\frac{54 \\, {\\left(t^{2} - 9\\right)}}{{\\left(t^{4} + 54 \\, t^{2} + 81\\right)}^{\\frac{3}{2}}}$"
      ],
      "text/plain": [
       "54*(t^2 - 9)/(t^4 + 54*t^2 + 81)^(3/2)"
      ]
     },
     "metadata": {},
     "output_type": "display_data"
    }
   ],
   "source": [
    "curvatura_neg=resultados2[3].subs(t=-t).simplify_full()\n",
    "show(curvatura_neg)"
   ]
  },
  {
   "cell_type": "markdown",
   "metadata": {},
   "source": [
    "Es la misma función $\\implies$ es una función par y por lo tanto $\\kappa(t)$ = $\\kappa(-t)$."
   ]
  },
  {
   "cell_type": "markdown",
   "metadata": {},
   "source": [
    "$ \\textbf{8 -}$ Calcula la evoluta y dibújala con la curva."
   ]
  },
  {
   "cell_type": "markdown",
   "metadata": {},
   "source": [
    "Con los resultados obtenidos previamente, aplicamos la fórmula de la evoluta:"
   ]
  },
  {
   "cell_type": "code",
   "execution_count": 48,
   "metadata": {},
   "outputs": [
    {
     "data": {
      "text/plain": [
       "(-1/270*(3*t^6 + 32*t^5 + 135*t^4 + 1440*t^3 + 1647*t^2 + 7047)/(t^2 - 9), -1/135*(2*t^6 - 12*t^5 + 90*t^4 - 540*t^3 + 1323*t^2 + 2673)/(t^2 - 9))"
      ]
     },
     "execution_count": 48,
     "metadata": {},
     "output_type": "execute_result"
    }
   ],
   "source": [
    "evoluta=(V1+resultados2[2]/curvatura1).simplify_full()\n",
    "evoluta"
   ]
  },
  {
   "cell_type": "code",
   "execution_count": 49,
   "metadata": {},
   "outputs": [
    {
     "data": {
      "text/html": [
       "<html>\\(\\displaystyle \\left(-\\frac{3 \\, t^{6} + 32 \\, t^{5} + 135 \\, t^{4} + 1440 \\, t^{3} + 1647 \\, t^{2} + 7047}{270 \\, {\\left(t^{2} - 9\\right)}},\\,-\\frac{2 \\, t^{6} - 12 \\, t^{5} + 90 \\, t^{4} - 540 \\, t^{3} + 1323 \\, t^{2} + 2673}{135 \\, {\\left(t^{2} - 9\\right)}}\\right)\\)</html>"
      ],
      "text/latex": [
       "$\\displaystyle \\left(-\\frac{3 \\, t^{6} + 32 \\, t^{5} + 135 \\, t^{4} + 1440 \\, t^{3} + 1647 \\, t^{2} + 7047}{270 \\, {\\left(t^{2} - 9\\right)}},\\,-\\frac{2 \\, t^{6} - 12 \\, t^{5} + 90 \\, t^{4} - 540 \\, t^{3} + 1323 \\, t^{2} + 2673}{135 \\, {\\left(t^{2} - 9\\right)}}\\right)$"
      ],
      "text/plain": [
       "(-1/270*(3*t^6 + 32*t^5 + 135*t^4 + 1440*t^3 + 1647*t^2 + 7047)/(t^2 - 9), -1/135*(2*t^6 - 12*t^5 + 90*t^4 - 540*t^3 + 1323*t^2 + 2673)/(t^2 - 9))"
      ]
     },
     "metadata": {},
     "output_type": "display_data"
    }
   ],
   "source": [
    "show(evoluta)"
   ]
  },
  {
   "cell_type": "markdown",
   "metadata": {},
   "source": [
    "Graficaremos esta expresión, teniendo en cuenta los polos en $t=3$, $t=-3$."
   ]
  },
  {
   "cell_type": "code",
   "execution_count": 50,
   "metadata": {},
   "outputs": [
    {
     "data": {
      "image/png": "[encoded data removed]",
      "text/plain": [
       "Graphics object consisting of 4 graphics primitives"
      ]
     },
     "metadata": {},
     "output_type": "display_data"
    }
   ],
   "source": [
    "#Parametrizacion\n",
    "x_t1(t) = -4/135*t^3 + 1/5*t^2 - 4/5*t + 2\n",
    "y_t2(t) = 1/45*t^3 + 4/15*t^2 + 3/5*t + 1\n",
    "\n",
    "P1 = point((2, 1), size=200, color='black', zorder=5)\n",
    "t_values = srange(0, 2, 0.01, include_endpoint=False)\n",
    "points = [(x_t(t_val).n(), y_t(t_val).n()) for t_val in t_values]\n",
    "\n",
    "param_plot2 = line(points, color='blue', thickness=3, linestyle='-')\n",
    "\n",
    "\n",
    "#Evoluta\n",
    "x_evoluta(t) = -1/270*(3*t^6 + 32*t^5 + 135*t^4 + 1440*t^3 + 1647*t^2 + 7047)/(t^2 - 9)\n",
    "y_evoluta(t) = -1/135*(2*t^6 - 12*t^5 + 90*t^4 - 540*t**3 + 1323*t^2 + 2673)/(t^2 - 9)\n",
    "\n",
    "# Rangos de t para evitar los polos en t = 3 // t = -3\n",
    "t_ranges = [(-8, -3.1), (-2.9, 2.9), (3.1, 8)]\n",
    "\n",
    "# Graficamos por separado y sumamos\n",
    "param_plot = sum(parametric_plot((x_evoluta(t), y_evoluta(t)), (t, tr[0], tr[1]), color='red', thickness=3, linestyle='--') for tr in t_ranges)\n",
    "\n",
    "\n",
    "show(param_plot +param_plot2, figsize=8, xmin=-10, xmax=20, ymin=-10, ymax=15)\n"
   ]
  },
  {
   "cell_type": "markdown",
   "metadata": {},
   "source": [
    "$\\textbf{Teorema fundamental de curvas planas}$ Sea $\\kappa: [a,b]\\to \\mathbb{R}$ función diferenciable. Entonces,\n",
    "$$\\exists ! \\textbf{x}:[a,b]\\to\\mathbb{R} \\text{ curva plana parametrizada por el arco t.q } \\textbf{x}(a)=(0,0), \\textbf{x}'(a)=(1,0) \\text{ y su curvatura es } \\kappa$$"
   ]
  },
  {
   "cell_type": "markdown",
   "metadata": {},
   "source": [
    "Sea $\\kappa_1=t$. Por el Teorema fundamental de curvas planas, sabemos que existe una única curva plana $\\textbf{x}_1:\\mathbb{R}\\to\\mathbb{R}$ parametrizada por el arco tal que su curvatura es $\\kappa_1=t$."
   ]
  },
  {
   "cell_type": "markdown",
   "metadata": {},
   "source": [
    "Dado que $\\kappa_1(s)=\\frac{d\\theta}{ds}$, vamos a obtener $\\theta(s)$\n",
    "$$\\kappa_1(s)=\\frac{d\\theta}{ds} ~~~ \\Longleftrightarrow ~~~ d\\theta=\\kappa_1(s)ds ~~~\\Longleftrightarrow ~~~ \\theta(s)=\\int \\kappa_1(s)ds$$"
   ]
  },
  {
   "cell_type": "markdown",
   "metadata": {},
   "source": [
    "Puesto que $\\kappa_1(t)=t$ e integrando, obtenemos\n",
    "$$\\theta(t)=\\int \\kappa_1(t)dt=\\int tdt$$"
   ]
  }
 ],
 "metadata": {
  "kernelspec": {
   "display_name": "SageMath 10.0",
   "language": "sage",
   "name": "sagemath-9.7"
  },
  "language_info": {
   "codemirror_mode": {
    "name": "ipython",
    "version": 3
   },
   "file_extension": ".py",
   "mimetype": "text/x-python",
   "name": "python",
   "nbconvert_exporter": "python",
   "pygments_lexer": "ipython3",
   "version": "3.9.2"
  },
  "widgets": {
   "application/vnd.jupyter.widget-state+json": {
    "state": {},
    "version_major": 2,
    "version_minor": 0
   }
  }
 },
 "nbformat": 4,
 "nbformat_minor": 4
}
